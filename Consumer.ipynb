{
 "cells": [
  {
   "cell_type": "code",
   "execution_count": 1,
   "metadata": {},
   "outputs": [],
   "source": [
    "from kafka import KafkaConsumer\n",
    "from json import loads\n",
    "import json"
   ]
  },
  {
   "cell_type": "code",
   "execution_count": 3,
   "metadata": {},
   "outputs": [],
   "source": [
    "consumer = KafkaConsumer('youtube', \n",
    "                         bootstrap_servers=['localhost:9092'], \n",
    "                         api_version=(0, 10) \n",
    "                         #,consumer_timeout_ms=1000\n",
    "                        )"
   ]
  },
  {
   "cell_type": "code",
   "execution_count": null,
   "metadata": {},
   "outputs": [
    {
     "name": "stdout",
     "output_type": "stream",
     "text": [
      "b'\"Message 15:41:48.811897\"'\n",
      "b'\"Message 15:41:50.813243\"'\n",
      "b'\"Message 15:41:52.816815\"'\n",
      "b'\"Message 15:41:54.822017\"'\n",
      "b'\"Message 15:41:56.827253\"'\n",
      "b'\"Message 15:41:58.830837\"'\n",
      "b'\"Message 15:42:00.832304\"'\n",
      "b'\"Message 15:42:02.836833\"'\n"
     ]
    }
   ],
   "source": [
    "for message in consumer:\n",
    "    #print(message)\n",
    "    print(message.value)"
   ]
  },
  {
   "cell_type": "code",
   "execution_count": null,
   "metadata": {},
   "outputs": [],
   "source": []
  },
  {
   "cell_type": "code",
   "execution_count": null,
   "metadata": {},
   "outputs": [],
   "source": []
  }
 ],
 "metadata": {
  "kernelspec": {
   "display_name": "Python 3",
   "language": "python",
   "name": "python3"
  },
  "language_info": {
   "codemirror_mode": {
    "name": "ipython",
    "version": 3
   },
   "file_extension": ".py",
   "mimetype": "text/x-python",
   "name": "python",
   "nbconvert_exporter": "python",
   "pygments_lexer": "ipython3",
   "version": "3.7.4"
  }
 },
 "nbformat": 4,
 "nbformat_minor": 2
}
